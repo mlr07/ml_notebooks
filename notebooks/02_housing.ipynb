{
 "cells": [
  {
   "cell_type": "markdown",
   "metadata": {},
   "source": [
    "# Hands On"
   ]
  },
  {
   "cell_type": "markdown",
   "metadata": {},
   "source": [
    "## Get data"
   ]
  },
  {
   "cell_type": "code",
   "execution_count": 1,
   "metadata": {},
   "outputs": [],
   "source": [
    "import os\n",
    "import tarfile\n",
    "import urllib\n",
    "\n",
    "DOWNLOAD_ROOT = \"https://raw.githubusercontent.com/ageron/handson-ml2/master/\"\n",
    "HOUSING_PATH = os.path.join(\"datasets\", \"housing\")\n",
    "HOUSING_URL = DOWNLOAD_ROOT + \"datasets/housing/housing.tgz\"\n",
    "\n",
    "def fetch_housing_data(housing_url=HOUSING_URL, housing_path=HOUSING_PATH):\n",
    "    if not os.path.isdir(housing_path):\n",
    "        os.makedirs(housing_path)\n",
    "    tgz_path = os.path.join(housing_path, \"housing.tgz\")\n",
    "    urllib.request.urlretrieve(housing_url, tgz_path)\n",
    "    housing_tgz = tarfile.open(tgz_path)\n",
    "    housing_tgz.extractall(path=housing_path)\n",
    "    housing_tgz.close()"
   ]
  },
  {
   "cell_type": "code",
   "execution_count": 2,
   "metadata": {},
   "outputs": [],
   "source": [
    "fetch_housing_data()"
   ]
  },
  {
   "cell_type": "markdown",
   "metadata": {},
   "source": [
    "## Load data"
   ]
  },
  {
   "cell_type": "code",
   "execution_count": 3,
   "metadata": {},
   "outputs": [],
   "source": [
    "import pandas as pd\n",
    "\n",
    "def load_housing_data(housing_path=HOUSING_PATH):\n",
    "    csv_path = os.path.join(housing_path, \"housing.csv\")\n",
    "    return pd.read_csv(csv_path)"
   ]
  },
  {
   "cell_type": "code",
   "execution_count": 4,
   "metadata": {},
   "outputs": [],
   "source": [
    "housing = load_housing_data()"
   ]
  },
  {
   "cell_type": "markdown",
   "metadata": {},
   "source": [
    "## Make income category to stratify on"
   ]
  },
  {
   "cell_type": "code",
   "execution_count": 5,
   "metadata": {},
   "outputs": [
    {
     "name": "stdout",
     "output_type": "stream",
     "text": [
      "3    7236\n",
      "2    6581\n",
      "4    3639\n",
      "5    2362\n",
      "1     822\n",
      "Name: income_cat, dtype: int64\n"
     ]
    },
    {
     "data": {
      "text/plain": [
       "<matplotlib.axes._subplots.AxesSubplot at 0x7f14c5771dc0>"
      ]
     },
     "execution_count": 5,
     "metadata": {},
     "output_type": "execute_result"
    },
    {
     "data": {
      "image/png": "[encoded data removed]",
      "text/plain": [
       "<Figure size 432x288 with 1 Axes>"
      ]
     },
     "metadata": {
      "needs_background": "light"
     },
     "output_type": "display_data"
    }
   ],
   "source": [
    "import numpy as np\n",
    "bins = [0.0,1.5,3.0,4.5,6.0,np.inf]\n",
    "labels = [1,2,3,4,5]\n",
    "\n",
    "housing[\"income_cat\"] = pd.cut(housing[\"median_income\"],bins=bins,labels=labels)\n",
    "print(housing[\"income_cat\"].value_counts())\n",
    "housing[\"income_cat\"].hist()"
   ]
  },
  {
   "cell_type": "markdown",
   "metadata": {},
   "source": [
    "## Split and stratify data"
   ]
  },
  {
   "cell_type": "code",
   "execution_count": 6,
   "metadata": {},
   "outputs": [],
   "source": [
    "from sklearn.model_selection import StratifiedShuffleSplit\n",
    "\n",
    "split = StratifiedShuffleSplit(n_splits=1, test_size=0.2, random_state=42)\n",
    "for train_index, test_index in split.split(housing, housing[\"income_cat\"]):\n",
    "    strat_train_set = housing.loc[train_index]\n",
    "    strat_test_set = housing.loc[test_index]"
   ]
  },
  {
   "cell_type": "markdown",
   "metadata": {},
   "source": [
    "## Make processing pipeline\n",
    "Numerical and categorical data"
   ]
  },
  {
   "cell_type": "code",
   "execution_count": 7,
   "metadata": {},
   "outputs": [],
   "source": [
    "housing = strat_train_set.drop([\"median_house_value\",\"income_cat\"], axis=1) # drop labels for training set\n",
    "housing_labels = strat_train_set[\"median_house_value\"].copy()\n",
    "housing_num = housing.drop(\"ocean_proximity\", axis=1)"
   ]
  },
  {
   "cell_type": "code",
   "execution_count": 8,
   "metadata": {},
   "outputs": [
    {
     "data": {
      "text/plain": [
       "9"
      ]
     },
     "execution_count": 8,
     "metadata": {},
     "output_type": "execute_result"
    }
   ],
   "source": [
    "len(housing.columns)"
   ]
  },
  {
   "cell_type": "code",
   "execution_count": 9,
   "metadata": {},
   "outputs": [],
   "source": [
    "from sklearn.base import BaseEstimator, TransformerMixin\n",
    "\n",
    "# column index\n",
    "rooms_ix, bedrooms_ix, population_ix, households_ix = 3, 4, 5, 6\n",
    "\n",
    "class CombinedAttributesAdder(BaseEstimator, TransformerMixin):\n",
    "    def __init__(self, add_bedrooms_per_room = True): # no *args or **kargs\n",
    "        self.add_bedrooms_per_room = add_bedrooms_per_room\n",
    "    def fit(self, X, y=None):\n",
    "        return self  # nothing else to do\n",
    "    def transform(self, X):\n",
    "        rooms_per_household = X[:, rooms_ix] / X[:, households_ix]\n",
    "        population_per_household = X[:, population_ix] / X[:, households_ix]\n",
    "        if self.add_bedrooms_per_room:\n",
    "            bedrooms_per_room = X[:, bedrooms_ix] / X[:, rooms_ix]\n",
    "            return np.c_[X, rooms_per_household, population_per_household,\n",
    "                         bedrooms_per_room]\n",
    "        else:\n",
    "            return np.c_[X, rooms_per_household, population_per_household]"
   ]
  },
  {
   "cell_type": "code",
   "execution_count": 10,
   "metadata": {},
   "outputs": [],
   "source": [
    "from sklearn.pipeline import Pipeline\n",
    "from sklearn.preprocessing import StandardScaler\n",
    "from sklearn.impute import SimpleImputer\n",
    "\n",
    "num_pipeline = Pipeline([\n",
    "        ('imputer', SimpleImputer(strategy=\"median\")),\n",
    "        ('attribs_adder', CombinedAttributesAdder()),\n",
    "        ('std_scaler', StandardScaler()),\n",
    "    ])\n"
   ]
  },
  {
   "cell_type": "markdown",
   "metadata": {},
   "source": [
    "## Run pipeline"
   ]
  },
  {
   "cell_type": "code",
   "execution_count": 11,
   "metadata": {},
   "outputs": [],
   "source": [
    "from sklearn.compose import ColumnTransformer\n",
    "from sklearn.preprocessing import OneHotEncoder\n",
    "\n",
    "num_attribs = list(housing_num)\n",
    "cat_attribs = [\"ocean_proximity\"]\n",
    "\n",
    "full_pipeline = ColumnTransformer([\n",
    "        (\"num\", num_pipeline, num_attribs),\n",
    "        (\"cat\", OneHotEncoder(), cat_attribs),\n",
    "    ])\n",
    "\n",
    "housing_prepared = full_pipeline.fit_transform(housing)"
   ]
  },
  {
   "cell_type": "code",
   "execution_count": 12,
   "metadata": {},
   "outputs": [
    {
     "data": {
      "text/plain": [
       "(16512, 16)"
      ]
     },
     "execution_count": 12,
     "metadata": {},
     "output_type": "execute_result"
    }
   ],
   "source": [
    "housing_prepared.shape"
   ]
  },
  {
   "cell_type": "markdown",
   "metadata": {},
   "source": [
    "## Question 1\n",
    "\n",
    "**Try a support vector machine regressor with various linear, rbf, C, and gamma parameters. How does the best SVR perform compared to the random forest regressor?**\n",
    "\n",
    "Compared to the random forest regressor (mse = ~50000), the SVR performs worse."
   ]
  },
  {
   "cell_type": "code",
   "execution_count": null,
   "metadata": {},
   "outputs": [],
   "source": [
    "from sklearn.model_selection import GridSearchCV\n",
    "from sklearn.svm import SVR\n",
    "\n",
    "param_grid = [\n",
    "        {'kernel': ['linear'], 'C': [10., 30., 100., 300., 1000., 3000., 10000., 30000.0]},\n",
    "        {'kernel': ['rbf'], 'C': [1.0, 3.0, 10., 30., 100., 300., 1000.0],\n",
    "         'gamma': [0.01, 0.03, 0.1, 0.3, 1.0, 3.0]},\n",
    "]\n",
    "\n",
    "# run time is 30 minutes\n",
    "svm_reg = SVR()\n",
    "grid_search = GridSearchCV(svm_reg, param_grid, cv=5, scoring='neg_mean_squared_error', verbose=2)\n",
    "grid_search.fit(housing_prepared, housing_labels)"
   ]
  },
  {
   "cell_type": "code",
   "execution_count": null,
   "metadata": {},
   "outputs": [],
   "source": [
    "import numpy as np\n",
    "negative_mse = grid_search.best_score_\n",
    "rmse = np.sqrt(-negative_mse)\n",
    "print(rmse)\n",
    "print(grid_search.best_params_)"
   ]
  },
  {
   "cell_type": "markdown",
   "metadata": {},
   "source": [
    "## Question 2\n",
    "\n",
    "**Replace GridSearchCV with RandomizedSearchCV. Compare results to GridSearch and random forest regressor.**\n",
    "\n",
    "Compared to the random forest regressor (mse = ~50000), the SVR with a random search is equivalent. The randomized parameter search provided better parameters and lower mse than the grid search. However, the training time higher at ~45 minutes. "
   ]
  },
  {
   "cell_type": "code",
   "execution_count": 39,
   "metadata": {},
   "outputs": [
    {
     "name": "stdout",
     "output_type": "stream",
     "text": [
      "Fitting 5 folds for each of 10 candidates, totalling 50 fits\n"
     ]
    },
    {
     "name": "stderr",
     "output_type": "stream",
     "text": [
      "[Parallel(n_jobs=1)]: Using backend SequentialBackend with 1 concurrent workers.\n",
      "[Parallel(n_jobs=1)]: Done  50 out of  50 | elapsed:  6.2min finished\n"
     ]
    },
    {
     "data": {
      "text/plain": [
       "RandomizedSearchCV(cv=5, estimator=SVR(),\n",
       "                   param_distributions={'C': <scipy.stats._distn_infrastructure.rv_frozen object at 0x7f149a3678b0>,\n",
       "                                        'gamma': <scipy.stats._distn_infrastructure.rv_frozen object at 0x7f149a53a430>,\n",
       "                                        'kernel': ['linear', 'rbf']},\n",
       "                   random_state=42, scoring='neg_mean_squared_error',\n",
       "                   verbose=1)"
      ]
     },
     "execution_count": 39,
     "metadata": {},
     "output_type": "execute_result"
    }
   ],
   "source": [
    "from sklearn.model_selection import RandomizedSearchCV\n",
    "from scipy.stats import expon, reciprocal\n",
    "from sklearn.svm import SVR\n",
    "\n",
    "params = {\n",
    "    \"kernel\":[\"linear\",\"rbf\"],\n",
    "    \"C\":reciprocal(20,200000),\n",
    "    \"gamma\":expon(scale=1.0)\n",
    "}\n",
    "\n",
    "svm_reg = SVR()\n",
    "rand_search_svr = RandomizedSearchCV(svm_reg, param_distributions=params, \n",
    "                                 n_iter=10, cv=5, \n",
    "                                 scoring=\"neg_mean_squared_error\",\n",
    "                                 verbose=1, random_state=42\n",
    ")\n",
    "\n",
    "rand_search_svr.fit(housing_prepared, housing_labels)"
   ]
  },
  {
   "cell_type": "code",
   "execution_count": 41,
   "metadata": {},
   "outputs": [
    {
     "name": "stdout",
     "output_type": "stream",
     "text": [
      "54767.960710084146\n",
      "{'C': 157055.10989448498, 'gamma': 0.26497040005002437, 'kernel': 'rbf'}\n"
     ]
    }
   ],
   "source": [
    "import numpy as np\n",
    "negative_mse = rand_search_svr.best_score_\n",
    "rmse = np.sqrt(-negative_mse)\n",
    "print(rmse)\n",
    "print(rand_search_svr.best_params_)"
   ]
  },
  {
   "cell_type": "markdown",
   "metadata": {},
   "source": [
    "**Examine range of parameters from epxonential and reciprocal distirbution**\n",
    "\n",
    "Exponential is useful in grid search for when you have a basic idea of what the target scale should be. Reciprocal is useful when you have no idea what the scale of a hyperparameter should be. "
   ]
  },
  {
   "cell_type": "code",
   "execution_count": null,
   "metadata": {},
   "outputs": [],
   "source": [
    "import matplotlib.pyplot as plt \n",
    "expon_distrib = expon(scale=1.)\n",
    "samples = expon_distrib.rvs(10000, random_state=42)\n",
    "plt.figure(figsize=(10, 4))\n",
    "plt.subplot(121)\n",
    "plt.title(\"Exponential distribution (scale=1.0)\")\n",
    "plt.hist(samples, bins=50)\n",
    "plt.subplot(122)\n",
    "plt.title(\"Log of this distribution\")\n",
    "plt.hist(np.log(samples), bins=50)\n",
    "plt.show()"
   ]
  },
  {
   "cell_type": "code",
   "execution_count": null,
   "metadata": {},
   "outputs": [],
   "source": [
    "reciprocal_distrib = reciprocal(20, 200000)\n",
    "samples = reciprocal_distrib.rvs(10000, random_state=42)\n",
    "plt.figure(figsize=(10, 4))\n",
    "plt.subplot(121)\n",
    "plt.title(\"Reciprocal distribution (scale=1.0)\")\n",
    "plt.hist(samples, bins=50)\n",
    "plt.subplot(122)\n",
    "plt.title(\"Log of this distribution\")\n",
    "plt.hist(np.log(samples), bins=50)\n",
    "plt.show()"
   ]
  },
  {
   "cell_type": "markdown",
   "metadata": {},
   "source": [
    "## Question 3\n",
    "\n",
    "**Add a transformer to the preparation pipeline to select only the most important attributes.**"
   ]
  },
  {
   "cell_type": "markdown",
   "metadata": {},
   "source": [
    "**Find feature importances with random forest regressor.**"
   ]
  },
  {
   "cell_type": "code",
   "execution_count": 22,
   "metadata": {},
   "outputs": [
    {
     "data": {
      "text/plain": [
       "RandomizedSearchCV(cv=5, estimator=RandomForestRegressor(random_state=42),\n",
       "                   param_distributions={'max_features': <scipy.stats._distn_infrastructure.rv_frozen object at 0x7f149a3497f0>,\n",
       "                                        'n_estimators': <scipy.stats._distn_infrastructure.rv_frozen object at 0x7f14996f86d0>},\n",
       "                   random_state=42, scoring='neg_mean_squared_error')"
      ]
     },
     "execution_count": 22,
     "metadata": {},
     "output_type": "execute_result"
    }
   ],
   "source": [
    "from sklearn.ensemble import RandomForestRegressor\n",
    "from sklearn.metrics import mean_squared_error\n",
    "from sklearn.model_selection import GridSearchCV\n",
    "from scipy.stats import randint\n",
    "\n",
    "param_distribs = {\n",
    "        'n_estimators': randint(low=1, high=200),\n",
    "        'max_features': randint(low=1, high=8),\n",
    "}\n",
    "\n",
    "forest_reg = RandomForestRegressor(random_state=42)\n",
    "rnd_search = RandomizedSearchCV(forest_reg, param_distributions=param_distribs,\n",
    "                                n_iter=10, cv=5, \n",
    "                                scoring='neg_mean_squared_error', random_state=42\n",
    ")\n",
    "\n",
    "rnd_search.fit(housing_prepared, housing_labels)"
   ]
  },
  {
   "cell_type": "code",
   "execution_count": 23,
   "metadata": {},
   "outputs": [
    {
     "data": {
      "text/plain": [
       "array([7.24699052e-02, 6.38080322e-02, 4.27504395e-02, 1.65343807e-02,\n",
       "       1.56100762e-02, 1.60929106e-02, 1.52149598e-02, 3.45178404e-01,\n",
       "       5.74445360e-02, 1.08468449e-01, 7.05907498e-02, 8.77441303e-03,\n",
       "       1.60563229e-01, 6.10403994e-05, 3.08961266e-03, 3.34886200e-03])"
      ]
     },
     "execution_count": 23,
     "metadata": {},
     "output_type": "execute_result"
    }
   ],
   "source": [
    "feature_importances = rnd_search.best_estimator_.feature_importances_\n",
    "feature_importances"
   ]
  },
  {
   "cell_type": "code",
   "execution_count": 24,
   "metadata": {},
   "outputs": [
    {
     "data": {
      "text/plain": [
       "[(0.3451784043801197, 'median_income'),\n",
       " (0.1605632289158767, 'INLAND'),\n",
       " (0.10846844860879654, 'pop_per_hhold'),\n",
       " (0.07246990515559049, 'longitude'),\n",
       " (0.07059074984842853, 'bedrooms_per_room'),\n",
       " (0.06380803224443841, 'latitude'),\n",
       " (0.057444535971841064, 'rooms_per_hhold'),\n",
       " (0.04275043945662488, 'housing_median_age'),\n",
       " (0.01653438073955306, 'total_rooms'),\n",
       " (0.016092910597195798, 'population'),\n",
       " (0.015610076150868492, 'total_bedrooms'),\n",
       " (0.015214959838627942, 'households'),\n",
       " (0.008774413032023276, '<1H OCEAN'),\n",
       " (0.003348861998751043, 'NEAR OCEAN'),\n",
       " (0.0030896126618977565, 'NEAR BAY'),\n",
       " (6.104039936629334e-05, 'ISLAND')]"
      ]
     },
     "execution_count": 24,
     "metadata": {},
     "output_type": "execute_result"
    }
   ],
   "source": [
    "# gather up the feature names. remember that the processed training set is a array without headers.\n",
    "extra_attribs = [\"rooms_per_hhold\", \"pop_per_hhold\", \"bedrooms_per_room\"]\n",
    "cat_encoder = full_pipeline.named_transformers_[\"cat\"]\n",
    "cat_one_hot_attribs = list(cat_encoder.categories_[0])\n",
    "attributes = num_attribs + extra_attribs + cat_one_hot_attribs\n",
    "sorted(zip(feature_importances, attributes), reverse=True)"
   ]
  },
  {
   "cell_type": "markdown",
   "metadata": {},
   "source": [
    "**Build a feature selector class for the pipeline**"
   ]
  },
  {
   "cell_type": "code",
   "execution_count": 25,
   "metadata": {},
   "outputs": [],
   "source": [
    "from sklearn.base import BaseEstimator, TransformerMixin\n",
    "\n",
    "def indices_of_top_k(arr, k):\n",
    "    return np.sort(np.argpartition(np.array(arr), -k)[-k:])\n",
    "\n",
    "class TopFeatureSelector(BaseEstimator, TransformerMixin):\n",
    "    def __init__(self, feature_importances, k):\n",
    "        self.feature_importances = feature_importances\n",
    "        self.k = k\n",
    "    def fit(self, X, y=None):\n",
    "        self.feature_indices_ = indices_of_top_k(self.feature_importances, self.k)\n",
    "        return self\n",
    "    def transform(self, X):\n",
    "        return X[:, self.feature_indices_]"
   ]
  },
  {
   "cell_type": "markdown",
   "metadata": {},
   "source": [
    "**Find the indices of the top features we want to select.** "
   ]
  },
  {
   "cell_type": "code",
   "execution_count": 26,
   "metadata": {},
   "outputs": [
    {
     "data": {
      "text/plain": [
       "array([ 0,  7,  9, 10, 12])"
      ]
     },
     "execution_count": 26,
     "metadata": {},
     "output_type": "execute_result"
    }
   ],
   "source": [
    "k = 5\n",
    "top_k_feature_indices = indices_of_top_k(feature_importances, k)\n",
    "top_k_feature_indices"
   ]
  },
  {
   "cell_type": "code",
   "execution_count": 27,
   "metadata": {},
   "outputs": [
    {
     "data": {
      "text/plain": [
       "array(['longitude', 'median_income', 'pop_per_hhold', 'bedrooms_per_room',\n",
       "       'INLAND'], dtype='<U18')"
      ]
     },
     "execution_count": 27,
     "metadata": {},
     "output_type": "execute_result"
    }
   ],
   "source": [
    "np.array(attributes)[top_k_feature_indices]"
   ]
  },
  {
   "cell_type": "code",
   "execution_count": 28,
   "metadata": {},
   "outputs": [
    {
     "data": {
      "text/plain": [
       "[(0.3451784043801197, 'median_income'),\n",
       " (0.1605632289158767, 'INLAND'),\n",
       " (0.10846844860879654, 'pop_per_hhold'),\n",
       " (0.07246990515559049, 'longitude'),\n",
       " (0.07059074984842853, 'bedrooms_per_room')]"
      ]
     },
     "execution_count": 28,
     "metadata": {},
     "output_type": "execute_result"
    }
   ],
   "source": [
    "sorted(zip(feature_importances, attributes), reverse=True)[:k]"
   ]
  },
  {
   "cell_type": "markdown",
   "metadata": {},
   "source": [
    "**Assemble processing and selection pipeline.**"
   ]
  },
  {
   "cell_type": "code",
   "execution_count": 29,
   "metadata": {},
   "outputs": [],
   "source": [
    "prep_and_feature_select_pipeline = Pipeline([\n",
    "    (\"preparation\",full_pipeline),\n",
    "    (\"feature_selection\",TopFeatureSelector(feature_importances, k))\n",
    "])\n",
    "\n",
    "housing_preped_top_k_features = prep_and_feature_select_pipeline.fit_transform(housing)"
   ]
  },
  {
   "cell_type": "markdown",
   "metadata": {},
   "source": [
    "**Confirm that top k features are align.**"
   ]
  },
  {
   "cell_type": "code",
   "execution_count": 30,
   "metadata": {},
   "outputs": [
    {
     "data": {
      "text/plain": [
       "array([[-1.15604281, -0.61493744, -0.08649871,  0.15531753,  0.        ],\n",
       "       [-1.17602483,  1.33645936, -0.03353391, -0.83628902,  0.        ],\n",
       "       [ 1.18684903, -0.5320456 , -0.09240499,  0.4222004 ,  0.        ]])"
      ]
     },
     "execution_count": 30,
     "metadata": {},
     "output_type": "execute_result"
    }
   ],
   "source": [
    "housing_preped_top_k_features[0:3]"
   ]
  },
  {
   "cell_type": "code",
   "execution_count": 31,
   "metadata": {},
   "outputs": [
    {
     "data": {
      "text/plain": [
       "array([[-1.15604281, -0.61493744, -0.08649871,  0.15531753,  0.        ],\n",
       "       [-1.17602483,  1.33645936, -0.03353391, -0.83628902,  0.        ],\n",
       "       [ 1.18684903, -0.5320456 , -0.09240499,  0.4222004 ,  0.        ]])"
      ]
     },
     "execution_count": 31,
     "metadata": {},
     "output_type": "execute_result"
    }
   ],
   "source": [
    "housing_prepared[0:3, top_k_feature_indices]"
   ]
  },
  {
   "cell_type": "markdown",
   "metadata": {},
   "source": [
    "## Question 4\n",
    "\n",
    "**Try creating a single pipelinefeature_importancesoes the full data preparation plus final prediction.**\n",
    "\n",
    "After running random search for the SVR, use the best parameters."
   ]
  },
  {
   "cell_type": "code",
   "execution_count": 42,
   "metadata": {},
   "outputs": [],
   "source": [
    "prepare_select_and_predict_pipeline = Pipeline([\n",
    "    ('preparation', full_pipeline),\n",
    "    ('feature_selection', TopFeatureSelector(feature_importances, k)),\n",
    "    ('svm_reg', SVR(**rand_search_svr.best_params_))\n",
    "])"
   ]
  },
  {
   "cell_type": "code",
   "execution_count": 43,
   "metadata": {},
   "outputs": [
    {
     "data": {
      "text/plain": [
       "Pipeline(steps=[('preparation',\n",
       "                 ColumnTransformer(transformers=[('num',\n",
       "                                                  Pipeline(steps=[('imputer',\n",
       "                                                                   SimpleImputer(strategy='median')),\n",
       "                                                                  ('attribs_adder',\n",
       "                                                                   CombinedAttributesAdder()),\n",
       "                                                                  ('std_scaler',\n",
       "                                                                   StandardScaler())]),\n",
       "                                                  ['longitude', 'latitude',\n",
       "                                                   'housing_median_age',\n",
       "                                                   'total_rooms',\n",
       "                                                   'total_bedrooms',\n",
       "                                                   'population', 'households',\n",
       "                                                   'median_income']),\n",
       "                                                 ('cat', OneHotEncoder(...\n",
       "                 TopFeatureSelector(feature_importances=array([7.24699052e-02, 6.38080322e-02, 4.27504395e-02, 1.65343807e-02,\n",
       "       1.56100762e-02, 1.60929106e-02, 1.52149598e-02, 3.45178404e-01,\n",
       "       5.74445360e-02, 1.08468449e-01, 7.05907498e-02, 8.77441303e-03,\n",
       "       1.60563229e-01, 6.10403994e-05, 3.08961266e-03, 3.34886200e-03]),\n",
       "                                    k=5)),\n",
       "                ('svm_reg',\n",
       "                 SVR(C=157055.10989448498, gamma=0.26497040005002437))])"
      ]
     },
     "execution_count": 43,
     "metadata": {},
     "output_type": "execute_result"
    }
   ],
   "source": [
    "prepare_select_and_predict_pipeline.fit(housing, housing_labels)"
   ]
  },
  {
   "cell_type": "markdown",
   "metadata": {},
   "source": [
    "**Run the pipeline on a few instances**"
   ]
  },
  {
   "cell_type": "code",
   "execution_count": 44,
   "metadata": {},
   "outputs": [
    {
     "name": "stdout",
     "output_type": "stream",
     "text": [
      "Predictions:\t [185384.13066634 341000.56131537 172531.39955817  56040.55006167]\n",
      "Labels:\t\t [286600.0, 340600.0, 196900.0, 46300.0]\n"
     ]
    }
   ],
   "source": [
    "some_data = housing.iloc[:4]\n",
    "some_labels = housing_labels.iloc[:4]\n",
    "\n",
    "print(\"Predictions:\\t\", prepare_select_and_predict_pipeline.predict(some_data))\n",
    "print(\"Labels:\\t\\t\", list(some_labels))"
   ]
  },
  {
   "cell_type": "markdown",
   "metadata": {},
   "source": [
    "## Question 5\n",
    "\n",
    "**Automatically explore preparation options with GridSearchCV**\n",
    "\n",
    "Basically prepend additional processing tests to the front of the pipeline. Not much is gained from this step. The output implies that all features are important at this phase. Regardless, it demonstrates another way to search for best methods when building a full machine learning pipeline.\n",
    "\n",
    "In summary, this notebook demonstrates the ability to \"automate\" the entire machine learning pipeline. From processing through model training and prediction. At this point the entire notebook could be converted to a streamlined set of scripts to the entire operation.\n",
    "\n",
    "Note: Why does the below grid run with so many iterations? "
   ]
  },
  {
   "cell_type": "code",
   "execution_count": 45,
   "metadata": {},
   "outputs": [
    {
     "name": "stdout",
     "output_type": "stream",
     "text": [
      "Fitting 5 folds for each of 48 candidates, totalling 240 fits\n",
      "[CV] feature_selection__k=1, preparation__num__imputer__strategy=mean \n"
     ]
    },
    {
     "name": "stderr",
     "output_type": "stream",
     "text": [
      "[Parallel(n_jobs=1)]: Using backend SequentialBackend with 1 concurrent workers.\n"
     ]
    },
    {
     "name": "stdout",
     "output_type": "stream",
     "text": [
      "[CV]  feature_selection__k=1, preparation__num__imputer__strategy=mean, total=   5.1s\n",
      "[CV] feature_selection__k=1, preparation__num__imputer__strategy=mean \n"
     ]
    },
    {
     "name": "stderr",
     "output_type": "stream",
     "text": [
      "[Parallel(n_jobs=1)]: Done   1 out of   1 | elapsed:    5.2s remaining:    0.0s\n"
     ]
    },
    {
     "name": "stdout",
     "output_type": "stream",
     "text": [
      "[CV]  feature_selection__k=1, preparation__num__imputer__strategy=mean, total=   5.2s\n",
      "[CV] feature_selection__k=1, preparation__num__imputer__strategy=mean \n",
      "[CV]  feature_selection__k=1, preparation__num__imputer__strategy=mean, total=   5.2s\n",
      "[CV] feature_selection__k=1, preparation__num__imputer__strategy=mean \n",
      "[CV]  feature_selection__k=1, preparation__num__imputer__strategy=mean, total=   5.1s\n",
      "[CV] feature_selection__k=1, preparation__num__imputer__strategy=mean \n",
      "[CV]  feature_selection__k=1, preparation__num__imputer__strategy=mean, total=   5.1s\n",
      "[CV] feature_selection__k=1, preparation__num__imputer__strategy=median \n",
      "[CV]  feature_selection__k=1, preparation__num__imputer__strategy=median, total=   5.2s\n",
      "[CV] feature_selection__k=1, preparation__num__imputer__strategy=median \n",
      "[CV]  feature_selection__k=1, preparation__num__imputer__strategy=median, total=   5.3s\n",
      "[CV] feature_selection__k=1, preparation__num__imputer__strategy=median \n",
      "[CV]  feature_selection__k=1, preparation__num__imputer__strategy=median, total=   5.2s\n",
      "[CV] feature_selection__k=1, preparation__num__imputer__strategy=median \n",
      "[CV]  feature_selection__k=1, preparation__num__imputer__strategy=median, total=   5.2s\n",
      "[CV] feature_selection__k=1, preparation__num__imputer__strategy=median \n",
      "[CV]  feature_selection__k=1, preparation__num__imputer__strategy=median, total=   5.2s\n",
      "[CV] feature_selection__k=1, preparation__num__imputer__strategy=most_frequent \n",
      "[CV]  feature_selection__k=1, preparation__num__imputer__strategy=most_frequent, total=   5.2s\n",
      "[CV] feature_selection__k=1, preparation__num__imputer__strategy=most_frequent \n",
      "[CV]  feature_selection__k=1, preparation__num__imputer__strategy=most_frequent, total=   5.3s\n",
      "[CV] feature_selection__k=1, preparation__num__imputer__strategy=most_frequent \n",
      "[CV]  feature_selection__k=1, preparation__num__imputer__strategy=most_frequent, total=   5.3s\n",
      "[CV] feature_selection__k=1, preparation__num__imputer__strategy=most_frequent \n",
      "[CV]  feature_selection__k=1, preparation__num__imputer__strategy=most_frequent, total=   5.2s\n",
      "[CV] feature_selection__k=1, preparation__num__imputer__strategy=most_frequent \n",
      "[CV]  feature_selection__k=1, preparation__num__imputer__strategy=most_frequent, total=   5.2s\n",
      "[CV] feature_selection__k=2, preparation__num__imputer__strategy=mean \n",
      "[CV]  feature_selection__k=2, preparation__num__imputer__strategy=mean, total=   5.3s\n",
      "[CV] feature_selection__k=2, preparation__num__imputer__strategy=mean \n",
      "[CV]  feature_selection__k=2, preparation__num__imputer__strategy=mean, total=   5.4s\n",
      "[CV] feature_selection__k=2, preparation__num__imputer__strategy=mean \n",
      "[CV]  feature_selection__k=2, preparation__num__imputer__strategy=mean, total=   5.3s\n",
      "[CV] feature_selection__k=2, preparation__num__imputer__strategy=mean \n",
      "[CV]  feature_selection__k=2, preparation__num__imputer__strategy=mean, total=   5.3s\n",
      "[CV] feature_selection__k=2, preparation__num__imputer__strategy=mean \n",
      "[CV]  feature_selection__k=2, preparation__num__imputer__strategy=mean, total=   5.4s\n",
      "[CV] feature_selection__k=2, preparation__num__imputer__strategy=median \n",
      "[CV]  feature_selection__k=2, preparation__num__imputer__strategy=median, total=   5.4s\n",
      "[CV] feature_selection__k=2, preparation__num__imputer__strategy=median \n",
      "[CV]  feature_selection__k=2, preparation__num__imputer__strategy=median, total=   5.4s\n",
      "[CV] feature_selection__k=2, preparation__num__imputer__strategy=median \n",
      "[CV]  feature_selection__k=2, preparation__num__imputer__strategy=median, total=   5.3s\n",
      "[CV] feature_selection__k=2, preparation__num__imputer__strategy=median \n",
      "[CV]  feature_selection__k=2, preparation__num__imputer__strategy=median, total=   5.4s\n",
      "[CV] feature_selection__k=2, preparation__num__imputer__strategy=median \n",
      "[CV]  feature_selection__k=2, preparation__num__imputer__strategy=median, total=   5.4s\n",
      "[CV] feature_selection__k=2, preparation__num__imputer__strategy=most_frequent \n",
      "[CV]  feature_selection__k=2, preparation__num__imputer__strategy=most_frequent, total=   5.3s\n",
      "[CV] feature_selection__k=2, preparation__num__imputer__strategy=most_frequent \n",
      "[CV]  feature_selection__k=2, preparation__num__imputer__strategy=most_frequent, total=   5.4s\n",
      "[CV] feature_selection__k=2, preparation__num__imputer__strategy=most_frequent \n",
      "[CV]  feature_selection__k=2, preparation__num__imputer__strategy=most_frequent, total=   5.3s\n",
      "[CV] feature_selection__k=2, preparation__num__imputer__strategy=most_frequent \n",
      "[CV]  feature_selection__k=2, preparation__num__imputer__strategy=most_frequent, total=   5.4s\n",
      "[CV] feature_selection__k=2, preparation__num__imputer__strategy=most_frequent \n",
      "[CV]  feature_selection__k=2, preparation__num__imputer__strategy=most_frequent, total=   5.4s\n",
      "[CV] feature_selection__k=3, preparation__num__imputer__strategy=mean \n",
      "[CV]  feature_selection__k=3, preparation__num__imputer__strategy=mean, total=   5.4s\n",
      "[CV] feature_selection__k=3, preparation__num__imputer__strategy=mean \n",
      "[CV]  feature_selection__k=3, preparation__num__imputer__strategy=mean, total=   5.4s\n",
      "[CV] feature_selection__k=3, preparation__num__imputer__strategy=mean \n",
      "[CV]  feature_selection__k=3, preparation__num__imputer__strategy=mean, total=   5.3s\n",
      "[CV] feature_selection__k=3, preparation__num__imputer__strategy=mean \n",
      "[CV]  feature_selection__k=3, preparation__num__imputer__strategy=mean, total=   5.3s\n",
      "[CV] feature_selection__k=3, preparation__num__imputer__strategy=mean \n",
      "[CV]  feature_selection__k=3, preparation__num__imputer__strategy=mean, total=   5.4s\n",
      "[CV] feature_selection__k=3, preparation__num__imputer__strategy=median \n",
      "[CV]  feature_selection__k=3, preparation__num__imputer__strategy=median, total=   5.4s\n",
      "[CV] feature_selection__k=3, preparation__num__imputer__strategy=median \n",
      "[CV]  feature_selection__k=3, preparation__num__imputer__strategy=median, total=   5.4s\n",
      "[CV] feature_selection__k=3, preparation__num__imputer__strategy=median \n",
      "[CV]  feature_selection__k=3, preparation__num__imputer__strategy=median, total=   5.3s\n",
      "[CV] feature_selection__k=3, preparation__num__imputer__strategy=median \n",
      "[CV]  feature_selection__k=3, preparation__num__imputer__strategy=median, total=   5.4s\n",
      "[CV] feature_selection__k=3, preparation__num__imputer__strategy=median \n",
      "[CV]  feature_selection__k=3, preparation__num__imputer__strategy=median, total=   5.4s\n",
      "[CV] feature_selection__k=3, preparation__num__imputer__strategy=most_frequent \n",
      "[CV]  feature_selection__k=3, preparation__num__imputer__strategy=most_frequent, total=   5.4s\n",
      "[CV] feature_selection__k=3, preparation__num__imputer__strategy=most_frequent \n",
      "[CV]  feature_selection__k=3, preparation__num__imputer__strategy=most_frequent, total=   5.4s\n",
      "[CV] feature_selection__k=3, preparation__num__imputer__strategy=most_frequent \n",
      "[CV]  feature_selection__k=3, preparation__num__imputer__strategy=most_frequent, total=   5.4s\n",
      "[CV] feature_selection__k=3, preparation__num__imputer__strategy=most_frequent \n",
      "[CV]  feature_selection__k=3, preparation__num__imputer__strategy=most_frequent, total=   5.4s\n",
      "[CV] feature_selection__k=3, preparation__num__imputer__strategy=most_frequent \n",
      "[CV]  feature_selection__k=3, preparation__num__imputer__strategy=most_frequent, total=   5.4s\n",
      "[CV] feature_selection__k=4, preparation__num__imputer__strategy=mean \n",
      "[CV]  feature_selection__k=4, preparation__num__imputer__strategy=mean, total=   5.9s\n",
      "[CV] feature_selection__k=4, preparation__num__imputer__strategy=mean \n",
      "[CV]  feature_selection__k=4, preparation__num__imputer__strategy=mean, total=   5.7s\n",
      "[CV] feature_selection__k=4, preparation__num__imputer__strategy=mean \n",
      "[CV]  feature_selection__k=4, preparation__num__imputer__strategy=mean, total=   5.9s\n",
      "[CV] feature_selection__k=4, preparation__num__imputer__strategy=mean \n",
      "[CV]  feature_selection__k=4, preparation__num__imputer__strategy=mean, total=   5.9s\n",
      "[CV] feature_selection__k=4, preparation__num__imputer__strategy=mean \n",
      "[CV]  feature_selection__k=4, preparation__num__imputer__strategy=mean, total=   5.8s\n",
      "[CV] feature_selection__k=4, preparation__num__imputer__strategy=median \n",
      "[CV]  feature_selection__k=4, preparation__num__imputer__strategy=median, total=   5.9s\n",
      "[CV] feature_selection__k=4, preparation__num__imputer__strategy=median \n",
      "[CV]  feature_selection__k=4, preparation__num__imputer__strategy=median, total=   5.8s\n",
      "[CV] feature_selection__k=4, preparation__num__imputer__strategy=median \n",
      "[CV]  feature_selection__k=4, preparation__num__imputer__strategy=median, total=   5.9s\n",
      "[CV] feature_selection__k=4, preparation__num__imputer__strategy=median \n",
      "[CV]  feature_selection__k=4, preparation__num__imputer__strategy=median, total=   5.9s\n",
      "[CV] feature_selection__k=4, preparation__num__imputer__strategy=median \n",
      "[CV]  feature_selection__k=4, preparation__num__imputer__strategy=median, total=   5.7s\n",
      "[CV] feature_selection__k=4, preparation__num__imputer__strategy=most_frequent \n",
      "[CV]  feature_selection__k=4, preparation__num__imputer__strategy=most_frequent, total=   5.9s\n",
      "[CV] feature_selection__k=4, preparation__num__imputer__strategy=most_frequent \n",
      "[CV]  feature_selection__k=4, preparation__num__imputer__strategy=most_frequent, total=   5.7s\n",
      "[CV] feature_selection__k=4, preparation__num__imputer__strategy=most_frequent \n",
      "[CV]  feature_selection__k=4, preparation__num__imputer__strategy=most_frequent, total=   5.9s\n",
      "[CV] feature_selection__k=4, preparation__num__imputer__strategy=most_frequent \n",
      "[CV]  feature_selection__k=4, preparation__num__imputer__strategy=most_frequent, total=   5.9s\n",
      "[CV] feature_selection__k=4, preparation__num__imputer__strategy=most_frequent \n",
      "[CV]  feature_selection__k=4, preparation__num__imputer__strategy=most_frequent, total=   5.7s\n",
      "[CV] feature_selection__k=5, preparation__num__imputer__strategy=mean \n",
      "[CV]  feature_selection__k=5, preparation__num__imputer__strategy=mean, total=   5.8s\n",
      "[CV] feature_selection__k=5, preparation__num__imputer__strategy=mean \n",
      "[CV]  feature_selection__k=5, preparation__num__imputer__strategy=mean, total=   6.1s\n",
      "[CV] feature_selection__k=5, preparation__num__imputer__strategy=mean \n",
      "[CV]  feature_selection__k=5, preparation__num__imputer__strategy=mean, total=   5.9s\n",
      "[CV] feature_selection__k=5, preparation__num__imputer__strategy=mean \n",
      "[CV]  feature_selection__k=5, preparation__num__imputer__strategy=mean, total=   6.0s\n",
      "[CV] feature_selection__k=5, preparation__num__imputer__strategy=mean \n",
      "[CV]  feature_selection__k=5, preparation__num__imputer__strategy=mean, total=   6.0s\n",
      "[CV] feature_selection__k=5, preparation__num__imputer__strategy=median \n",
      "[CV]  feature_selection__k=5, preparation__num__imputer__strategy=median, total=   5.9s\n",
      "[CV] feature_selection__k=5, preparation__num__imputer__strategy=median \n",
      "[CV]  feature_selection__k=5, preparation__num__imputer__strategy=median, total=   6.3s\n",
      "[CV] feature_selection__k=5, preparation__num__imputer__strategy=median \n",
      "[CV]  feature_selection__k=5, preparation__num__imputer__strategy=median, total=   6.2s\n",
      "[CV] feature_selection__k=5, preparation__num__imputer__strategy=median \n",
      "[CV]  feature_selection__k=5, preparation__num__imputer__strategy=median, total=   5.9s\n",
      "[CV] feature_selection__k=5, preparation__num__imputer__strategy=median \n",
      "[CV]  feature_selection__k=5, preparation__num__imputer__strategy=median, total=   5.9s\n",
      "[CV] feature_selection__k=5, preparation__num__imputer__strategy=most_frequent \n",
      "[CV]  feature_selection__k=5, preparation__num__imputer__strategy=most_frequent, total=   6.0s\n",
      "[CV] feature_selection__k=5, preparation__num__imputer__strategy=most_frequent \n",
      "[CV]  feature_selection__k=5, preparation__num__imputer__strategy=most_frequent, total=   6.0s\n",
      "[CV] feature_selection__k=5, preparation__num__imputer__strategy=most_frequent \n",
      "[CV]  feature_selection__k=5, preparation__num__imputer__strategy=most_frequent, total=   6.0s\n",
      "[CV] feature_selection__k=5, preparation__num__imputer__strategy=most_frequent \n",
      "[CV]  feature_selection__k=5, preparation__num__imputer__strategy=most_frequent, total=   5.9s\n",
      "[CV] feature_selection__k=5, preparation__num__imputer__strategy=most_frequent \n",
      "[CV]  feature_selection__k=5, preparation__num__imputer__strategy=most_frequent, total=   6.0s\n",
      "[CV] feature_selection__k=6, preparation__num__imputer__strategy=mean \n",
      "[CV]  feature_selection__k=6, preparation__num__imputer__strategy=mean, total=   6.3s\n",
      "[CV] feature_selection__k=6, preparation__num__imputer__strategy=mean \n",
      "[CV]  feature_selection__k=6, preparation__num__imputer__strategy=mean, total=   6.4s\n",
      "[CV] feature_selection__k=6, preparation__num__imputer__strategy=mean \n",
      "[CV]  feature_selection__k=6, preparation__num__imputer__strategy=mean, total=   6.3s\n",
      "[CV] feature_selection__k=6, preparation__num__imputer__strategy=mean \n",
      "[CV]  feature_selection__k=6, preparation__num__imputer__strategy=mean, total=   6.5s\n",
      "[CV] feature_selection__k=6, preparation__num__imputer__strategy=mean \n",
      "[CV]  feature_selection__k=6, preparation__num__imputer__strategy=mean, total=   6.5s\n",
      "[CV] feature_selection__k=6, preparation__num__imputer__strategy=median \n",
      "[CV]  feature_selection__k=6, preparation__num__imputer__strategy=median, total=   6.0s\n",
      "[CV] feature_selection__k=6, preparation__num__imputer__strategy=median \n",
      "[CV]  feature_selection__k=6, preparation__num__imputer__strategy=median, total=   6.8s\n",
      "[CV] feature_selection__k=6, preparation__num__imputer__strategy=median \n",
      "[CV]  feature_selection__k=6, preparation__num__imputer__strategy=median, total=   6.2s\n",
      "[CV] feature_selection__k=6, preparation__num__imputer__strategy=median \n",
      "[CV]  feature_selection__k=6, preparation__num__imputer__strategy=median, total=   6.1s\n",
      "[CV] feature_selection__k=6, preparation__num__imputer__strategy=median \n",
      "[CV]  feature_selection__k=6, preparation__num__imputer__strategy=median, total=   6.6s\n",
      "[CV] feature_selection__k=6, preparation__num__imputer__strategy=most_frequent \n",
      "[CV]  feature_selection__k=6, preparation__num__imputer__strategy=most_frequent, total=   6.4s\n",
      "[CV] feature_selection__k=6, preparation__num__imputer__strategy=most_frequent \n",
      "[CV]  feature_selection__k=6, preparation__num__imputer__strategy=most_frequent, total=   6.4s\n",
      "[CV] feature_selection__k=6, preparation__num__imputer__strategy=most_frequent \n",
      "[CV]  feature_selection__k=6, preparation__num__imputer__strategy=most_frequent, total=   6.4s\n",
      "[CV] feature_selection__k=6, preparation__num__imputer__strategy=most_frequent \n",
      "[CV]  feature_selection__k=6, preparation__num__imputer__strategy=most_frequent, total=   6.3s\n",
      "[CV] feature_selection__k=6, preparation__num__imputer__strategy=most_frequent \n",
      "[CV]  feature_selection__k=6, preparation__num__imputer__strategy=most_frequent, total=   6.3s\n",
      "[CV] feature_selection__k=7, preparation__num__imputer__strategy=mean \n",
      "[CV]  feature_selection__k=7, preparation__num__imputer__strategy=mean, total=   6.7s\n",
      "[CV] feature_selection__k=7, preparation__num__imputer__strategy=mean \n",
      "[CV]  feature_selection__k=7, preparation__num__imputer__strategy=mean, total=   6.6s\n",
      "[CV] feature_selection__k=7, preparation__num__imputer__strategy=mean \n",
      "[CV]  feature_selection__k=7, preparation__num__imputer__strategy=mean, total=   6.8s\n",
      "[CV] feature_selection__k=7, preparation__num__imputer__strategy=mean \n",
      "[CV]  feature_selection__k=7, preparation__num__imputer__strategy=mean, total=   6.8s\n",
      "[CV] feature_selection__k=7, preparation__num__imputer__strategy=mean \n",
      "[CV]  feature_selection__k=7, preparation__num__imputer__strategy=mean, total=   6.6s\n",
      "[CV] feature_selection__k=7, preparation__num__imputer__strategy=median \n",
      "[CV]  feature_selection__k=7, preparation__num__imputer__strategy=median, total=   7.3s\n",
      "[CV] feature_selection__k=7, preparation__num__imputer__strategy=median \n",
      "[CV]  feature_selection__k=7, preparation__num__imputer__strategy=median, total=   6.8s\n",
      "[CV] feature_selection__k=7, preparation__num__imputer__strategy=median \n",
      "[CV]  feature_selection__k=7, preparation__num__imputer__strategy=median, total=   6.7s\n",
      "[CV] feature_selection__k=7, preparation__num__imputer__strategy=median \n",
      "[CV]  feature_selection__k=7, preparation__num__imputer__strategy=median, total=   6.5s\n",
      "[CV] feature_selection__k=7, preparation__num__imputer__strategy=median \n",
      "[CV]  feature_selection__k=7, preparation__num__imputer__strategy=median, total=   6.6s\n",
      "[CV] feature_selection__k=7, preparation__num__imputer__strategy=most_frequent \n",
      "[CV]  feature_selection__k=7, preparation__num__imputer__strategy=most_frequent, total=   7.2s\n",
      "[CV] feature_selection__k=7, preparation__num__imputer__strategy=most_frequent \n",
      "[CV]  feature_selection__k=7, preparation__num__imputer__strategy=most_frequent, total=   6.6s\n",
      "[CV] feature_selection__k=7, preparation__num__imputer__strategy=most_frequent \n",
      "[CV]  feature_selection__k=7, preparation__num__imputer__strategy=most_frequent, total=   7.1s\n",
      "[CV] feature_selection__k=7, preparation__num__imputer__strategy=most_frequent \n",
      "[CV]  feature_selection__k=7, preparation__num__imputer__strategy=most_frequent, total=   6.6s\n",
      "[CV] feature_selection__k=7, preparation__num__imputer__strategy=most_frequent \n",
      "[CV]  feature_selection__k=7, preparation__num__imputer__strategy=most_frequent, total=   7.1s\n",
      "[CV] feature_selection__k=8, preparation__num__imputer__strategy=mean \n",
      "[CV]  feature_selection__k=8, preparation__num__imputer__strategy=mean, total=   8.1s\n",
      "[CV] feature_selection__k=8, preparation__num__imputer__strategy=mean \n",
      "[CV]  feature_selection__k=8, preparation__num__imputer__strategy=mean, total=   7.7s\n",
      "[CV] feature_selection__k=8, preparation__num__imputer__strategy=mean \n",
      "[CV]  feature_selection__k=8, preparation__num__imputer__strategy=mean, total=   8.7s\n",
      "[CV] feature_selection__k=8, preparation__num__imputer__strategy=mean \n",
      "[CV]  feature_selection__k=8, preparation__num__imputer__strategy=mean, total=   8.5s\n",
      "[CV] feature_selection__k=8, preparation__num__imputer__strategy=mean \n",
      "[CV]  feature_selection__k=8, preparation__num__imputer__strategy=mean, total=   9.3s\n",
      "[CV] feature_selection__k=8, preparation__num__imputer__strategy=median \n",
      "[CV]  feature_selection__k=8, preparation__num__imputer__strategy=median, total=   8.5s\n",
      "[CV] feature_selection__k=8, preparation__num__imputer__strategy=median \n",
      "[CV]  feature_selection__k=8, preparation__num__imputer__strategy=median, total=   7.9s\n",
      "[CV] feature_selection__k=8, preparation__num__imputer__strategy=median \n",
      "[CV]  feature_selection__k=8, preparation__num__imputer__strategy=median, total=   8.9s\n",
      "[CV] feature_selection__k=8, preparation__num__imputer__strategy=median \n",
      "[CV]  feature_selection__k=8, preparation__num__imputer__strategy=median, total=   8.8s\n",
      "[CV] feature_selection__k=8, preparation__num__imputer__strategy=median \n",
      "[CV]  feature_selection__k=8, preparation__num__imputer__strategy=median, total=   8.6s\n",
      "[CV] feature_selection__k=8, preparation__num__imputer__strategy=most_frequent \n",
      "[CV]  feature_selection__k=8, preparation__num__imputer__strategy=most_frequent, total=   8.3s\n",
      "[CV] feature_selection__k=8, preparation__num__imputer__strategy=most_frequent \n",
      "[CV]  feature_selection__k=8, preparation__num__imputer__strategy=most_frequent, total=   7.9s\n",
      "[CV] feature_selection__k=8, preparation__num__imputer__strategy=most_frequent \n",
      "[CV]  feature_selection__k=8, preparation__num__imputer__strategy=most_frequent, total=   8.6s\n",
      "[CV] feature_selection__k=8, preparation__num__imputer__strategy=most_frequent \n",
      "[CV]  feature_selection__k=8, preparation__num__imputer__strategy=most_frequent, total=   7.7s\n",
      "[CV] feature_selection__k=8, preparation__num__imputer__strategy=most_frequent \n",
      "[CV]  feature_selection__k=8, preparation__num__imputer__strategy=most_frequent, total=   8.3s\n",
      "[CV] feature_selection__k=9, preparation__num__imputer__strategy=mean \n",
      "[CV]  feature_selection__k=9, preparation__num__imputer__strategy=mean, total=  11.3s\n",
      "[CV] feature_selection__k=9, preparation__num__imputer__strategy=mean \n",
      "[CV]  feature_selection__k=9, preparation__num__imputer__strategy=mean, total=   9.9s\n",
      "[CV] feature_selection__k=9, preparation__num__imputer__strategy=mean \n",
      "[CV]  feature_selection__k=9, preparation__num__imputer__strategy=mean, total=  11.0s\n",
      "[CV] feature_selection__k=9, preparation__num__imputer__strategy=mean \n",
      "[CV]  feature_selection__k=9, preparation__num__imputer__strategy=mean, total=  11.1s\n",
      "[CV] feature_selection__k=9, preparation__num__imputer__strategy=mean \n",
      "[CV]  feature_selection__k=9, preparation__num__imputer__strategy=mean, total=  10.2s\n",
      "[CV] feature_selection__k=9, preparation__num__imputer__strategy=median \n",
      "[CV]  feature_selection__k=9, preparation__num__imputer__strategy=median, total=  10.6s\n",
      "[CV] feature_selection__k=9, preparation__num__imputer__strategy=median \n",
      "[CV]  feature_selection__k=9, preparation__num__imputer__strategy=median, total=  14.0s\n",
      "[CV] feature_selection__k=9, preparation__num__imputer__strategy=median \n",
      "[CV]  feature_selection__k=9, preparation__num__imputer__strategy=median, total=  10.5s\n",
      "[CV] feature_selection__k=9, preparation__num__imputer__strategy=median \n",
      "[CV]  feature_selection__k=9, preparation__num__imputer__strategy=median, total=  11.6s\n",
      "[CV] feature_selection__k=9, preparation__num__imputer__strategy=median \n",
      "[CV]  feature_selection__k=9, preparation__num__imputer__strategy=median, total=  11.5s\n",
      "[CV] feature_selection__k=9, preparation__num__imputer__strategy=most_frequent \n",
      "[CV]  feature_selection__k=9, preparation__num__imputer__strategy=most_frequent, total=  11.3s\n",
      "[CV] feature_selection__k=9, preparation__num__imputer__strategy=most_frequent \n",
      "[CV]  feature_selection__k=9, preparation__num__imputer__strategy=most_frequent, total=  10.9s\n",
      "[CV] feature_selection__k=9, preparation__num__imputer__strategy=most_frequent \n",
      "[CV]  feature_selection__k=9, preparation__num__imputer__strategy=most_frequent, total=  10.7s\n",
      "[CV] feature_selection__k=9, preparation__num__imputer__strategy=most_frequent \n",
      "[CV]  feature_selection__k=9, preparation__num__imputer__strategy=most_frequent, total=  10.2s\n",
      "[CV] feature_selection__k=9, preparation__num__imputer__strategy=most_frequent \n",
      "[CV]  feature_selection__k=9, preparation__num__imputer__strategy=most_frequent, total=  10.9s\n",
      "[CV] feature_selection__k=10, preparation__num__imputer__strategy=mean \n",
      "[CV]  feature_selection__k=10, preparation__num__imputer__strategy=mean, total=  11.6s\n",
      "[CV] feature_selection__k=10, preparation__num__imputer__strategy=mean \n",
      "[CV]  feature_selection__k=10, preparation__num__imputer__strategy=mean, total=  12.3s\n",
      "[CV] feature_selection__k=10, preparation__num__imputer__strategy=mean \n",
      "[CV]  feature_selection__k=10, preparation__num__imputer__strategy=mean, total=  15.3s\n",
      "[CV] feature_selection__k=10, preparation__num__imputer__strategy=mean \n",
      "[CV]  feature_selection__k=10, preparation__num__imputer__strategy=mean, total=  13.4s\n",
      "[CV] feature_selection__k=10, preparation__num__imputer__strategy=mean \n",
      "[CV]  feature_selection__k=10, preparation__num__imputer__strategy=mean, total=  12.6s\n",
      "[CV] feature_selection__k=10, preparation__num__imputer__strategy=median \n",
      "[CV]  feature_selection__k=10, preparation__num__imputer__strategy=median, total=  11.7s\n",
      "[CV] feature_selection__k=10, preparation__num__imputer__strategy=median \n",
      "[CV]  feature_selection__k=10, preparation__num__imputer__strategy=median, total=  14.0s\n",
      "[CV] feature_selection__k=10, preparation__num__imputer__strategy=median \n",
      "[CV]  feature_selection__k=10, preparation__num__imputer__strategy=median, total=  12.9s\n",
      "[CV] feature_selection__k=10, preparation__num__imputer__strategy=median \n",
      "[CV]  feature_selection__k=10, preparation__num__imputer__strategy=median, total=  13.0s\n",
      "[CV] feature_selection__k=10, preparation__num__imputer__strategy=median \n",
      "[CV]  feature_selection__k=10, preparation__num__imputer__strategy=median, total=  12.1s\n",
      "[CV] feature_selection__k=10, preparation__num__imputer__strategy=most_frequent \n",
      "[CV]  feature_selection__k=10, preparation__num__imputer__strategy=most_frequent, total=  11.8s\n",
      "[CV] feature_selection__k=10, preparation__num__imputer__strategy=most_frequent \n",
      "[CV]  feature_selection__k=10, preparation__num__imputer__strategy=most_frequent, total=  12.4s\n",
      "[CV] feature_selection__k=10, preparation__num__imputer__strategy=most_frequent \n",
      "[CV]  feature_selection__k=10, preparation__num__imputer__strategy=most_frequent, total=  11.8s\n",
      "[CV] feature_selection__k=10, preparation__num__imputer__strategy=most_frequent \n",
      "[CV]  feature_selection__k=10, preparation__num__imputer__strategy=most_frequent, total=  13.1s\n",
      "[CV] feature_selection__k=10, preparation__num__imputer__strategy=most_frequent \n",
      "[CV]  feature_selection__k=10, preparation__num__imputer__strategy=most_frequent, total=  13.3s\n",
      "[CV] feature_selection__k=11, preparation__num__imputer__strategy=mean \n",
      "[CV]  feature_selection__k=11, preparation__num__imputer__strategy=mean, total=  14.5s\n",
      "[CV] feature_selection__k=11, preparation__num__imputer__strategy=mean \n",
      "[CV]  feature_selection__k=11, preparation__num__imputer__strategy=mean, total=  13.2s\n",
      "[CV] feature_selection__k=11, preparation__num__imputer__strategy=mean \n",
      "[CV]  feature_selection__k=11, preparation__num__imputer__strategy=mean, total=  14.8s\n",
      "[CV] feature_selection__k=11, preparation__num__imputer__strategy=mean \n",
      "[CV]  feature_selection__k=11, preparation__num__imputer__strategy=mean, total=  13.6s\n",
      "[CV] feature_selection__k=11, preparation__num__imputer__strategy=mean \n",
      "[CV]  feature_selection__k=11, preparation__num__imputer__strategy=mean, total=  15.7s\n",
      "[CV] feature_selection__k=11, preparation__num__imputer__strategy=median \n",
      "[CV]  feature_selection__k=11, preparation__num__imputer__strategy=median, total=  13.1s\n",
      "[CV] feature_selection__k=11, preparation__num__imputer__strategy=median \n",
      "[CV]  feature_selection__k=11, preparation__num__imputer__strategy=median, total=  15.4s\n",
      "[CV] feature_selection__k=11, preparation__num__imputer__strategy=median \n",
      "[CV]  feature_selection__k=11, preparation__num__imputer__strategy=median, total=  13.2s\n",
      "[CV] feature_selection__k=11, preparation__num__imputer__strategy=median \n",
      "[CV]  feature_selection__k=11, preparation__num__imputer__strategy=median, total=  15.3s\n",
      "[CV] feature_selection__k=11, preparation__num__imputer__strategy=median \n",
      "[CV]  feature_selection__k=11, preparation__num__imputer__strategy=median, total=  16.6s\n",
      "[CV] feature_selection__k=11, preparation__num__imputer__strategy=most_frequent \n",
      "[CV]  feature_selection__k=11, preparation__num__imputer__strategy=most_frequent, total=  15.2s\n",
      "[CV] feature_selection__k=11, preparation__num__imputer__strategy=most_frequent \n",
      "[CV]  feature_selection__k=11, preparation__num__imputer__strategy=most_frequent, total=  15.3s\n",
      "[CV] feature_selection__k=11, preparation__num__imputer__strategy=most_frequent \n",
      "[CV]  feature_selection__k=11, preparation__num__imputer__strategy=most_frequent, total=  13.5s\n",
      "[CV] feature_selection__k=11, preparation__num__imputer__strategy=most_frequent \n",
      "[CV]  feature_selection__k=11, preparation__num__imputer__strategy=most_frequent, total=  13.8s\n",
      "[CV] feature_selection__k=11, preparation__num__imputer__strategy=most_frequent \n",
      "[CV]  feature_selection__k=11, preparation__num__imputer__strategy=most_frequent, total=  15.7s\n",
      "[CV] feature_selection__k=12, preparation__num__imputer__strategy=mean \n",
      "[CV]  feature_selection__k=12, preparation__num__imputer__strategy=mean, total=  15.7s\n",
      "[CV] feature_selection__k=12, preparation__num__imputer__strategy=mean \n",
      "[CV]  feature_selection__k=12, preparation__num__imputer__strategy=mean, total=  15.4s\n",
      "[CV] feature_selection__k=12, preparation__num__imputer__strategy=mean \n",
      "[CV]  feature_selection__k=12, preparation__num__imputer__strategy=mean, total=  15.2s\n",
      "[CV] feature_selection__k=12, preparation__num__imputer__strategy=mean \n",
      "[CV]  feature_selection__k=12, preparation__num__imputer__strategy=mean, total=  15.4s\n",
      "[CV] feature_selection__k=12, preparation__num__imputer__strategy=mean \n",
      "[CV]  feature_selection__k=12, preparation__num__imputer__strategy=mean, total=  16.1s\n",
      "[CV] feature_selection__k=12, preparation__num__imputer__strategy=median \n",
      "[CV]  feature_selection__k=12, preparation__num__imputer__strategy=median, total=  14.2s\n",
      "[CV] feature_selection__k=12, preparation__num__imputer__strategy=median \n",
      "[CV]  feature_selection__k=12, preparation__num__imputer__strategy=median, total=  14.7s\n",
      "[CV] feature_selection__k=12, preparation__num__imputer__strategy=median \n",
      "[CV]  feature_selection__k=12, preparation__num__imputer__strategy=median, total=  16.2s\n",
      "[CV] feature_selection__k=12, preparation__num__imputer__strategy=median \n",
      "[CV]  feature_selection__k=12, preparation__num__imputer__strategy=median, total=  15.1s\n",
      "[CV] feature_selection__k=12, preparation__num__imputer__strategy=median \n",
      "[CV]  feature_selection__k=12, preparation__num__imputer__strategy=median, total=  14.8s\n",
      "[CV] feature_selection__k=12, preparation__num__imputer__strategy=most_frequent \n",
      "[CV]  feature_selection__k=12, preparation__num__imputer__strategy=most_frequent, total=  13.9s\n",
      "[CV] feature_selection__k=12, preparation__num__imputer__strategy=most_frequent \n",
      "[CV]  feature_selection__k=12, preparation__num__imputer__strategy=most_frequent, total=  14.7s\n",
      "[CV] feature_selection__k=12, preparation__num__imputer__strategy=most_frequent \n",
      "[CV]  feature_selection__k=12, preparation__num__imputer__strategy=most_frequent, total=  17.7s\n",
      "[CV] feature_selection__k=12, preparation__num__imputer__strategy=most_frequent \n",
      "[CV]  feature_selection__k=12, preparation__num__imputer__strategy=most_frequent, total=  14.2s\n",
      "[CV] feature_selection__k=12, preparation__num__imputer__strategy=most_frequent \n",
      "[CV]  feature_selection__k=12, preparation__num__imputer__strategy=most_frequent, total=  14.4s\n",
      "[CV] feature_selection__k=13, preparation__num__imputer__strategy=mean \n",
      "[CV]  feature_selection__k=13, preparation__num__imputer__strategy=mean, total=  18.9s\n",
      "[CV] feature_selection__k=13, preparation__num__imputer__strategy=mean \n",
      "[CV]  feature_selection__k=13, preparation__num__imputer__strategy=mean, total=  17.1s\n",
      "[CV] feature_selection__k=13, preparation__num__imputer__strategy=mean \n",
      "[CV]  feature_selection__k=13, preparation__num__imputer__strategy=mean, total=  18.2s\n",
      "[CV] feature_selection__k=13, preparation__num__imputer__strategy=mean \n",
      "[CV]  feature_selection__k=13, preparation__num__imputer__strategy=mean, total=  16.7s\n",
      "[CV] feature_selection__k=13, preparation__num__imputer__strategy=mean \n",
      "[CV]  feature_selection__k=13, preparation__num__imputer__strategy=mean, total=  14.0s\n",
      "[CV] feature_selection__k=13, preparation__num__imputer__strategy=median \n",
      "[CV]  feature_selection__k=13, preparation__num__imputer__strategy=median, total=  15.1s\n",
      "[CV] feature_selection__k=13, preparation__num__imputer__strategy=median \n",
      "[CV]  feature_selection__k=13, preparation__num__imputer__strategy=median, total=  18.0s\n",
      "[CV] feature_selection__k=13, preparation__num__imputer__strategy=median \n",
      "[CV]  feature_selection__k=13, preparation__num__imputer__strategy=median, total=  18.9s\n",
      "[CV] feature_selection__k=13, preparation__num__imputer__strategy=median \n",
      "[CV]  feature_selection__k=13, preparation__num__imputer__strategy=median, total=  18.4s\n",
      "[CV] feature_selection__k=13, preparation__num__imputer__strategy=median \n",
      "[CV]  feature_selection__k=13, preparation__num__imputer__strategy=median, total=  16.5s\n",
      "[CV] feature_selection__k=13, preparation__num__imputer__strategy=most_frequent \n",
      "[CV]  feature_selection__k=13, preparation__num__imputer__strategy=most_frequent, total=  15.3s\n",
      "[CV] feature_selection__k=13, preparation__num__imputer__strategy=most_frequent \n",
      "[CV]  feature_selection__k=13, preparation__num__imputer__strategy=most_frequent, total=  18.0s\n",
      "[CV] feature_selection__k=13, preparation__num__imputer__strategy=most_frequent \n",
      "[CV]  feature_selection__k=13, preparation__num__imputer__strategy=most_frequent, total=  18.6s\n",
      "[CV] feature_selection__k=13, preparation__num__imputer__strategy=most_frequent \n",
      "[CV]  feature_selection__k=13, preparation__num__imputer__strategy=most_frequent, total=  18.3s\n",
      "[CV] feature_selection__k=13, preparation__num__imputer__strategy=most_frequent \n",
      "[CV]  feature_selection__k=13, preparation__num__imputer__strategy=most_frequent, total=  16.2s\n",
      "[CV] feature_selection__k=14, preparation__num__imputer__strategy=mean \n",
      "[CV]  feature_selection__k=14, preparation__num__imputer__strategy=mean, total=  14.9s\n",
      "[CV] feature_selection__k=14, preparation__num__imputer__strategy=mean \n",
      "[CV]  feature_selection__k=14, preparation__num__imputer__strategy=mean, total=  17.6s\n",
      "[CV] feature_selection__k=14, preparation__num__imputer__strategy=mean \n",
      "[CV]  feature_selection__k=14, preparation__num__imputer__strategy=mean, total=  17.7s\n",
      "[CV] feature_selection__k=14, preparation__num__imputer__strategy=mean \n",
      "[CV]  feature_selection__k=14, preparation__num__imputer__strategy=mean, total=  17.8s\n",
      "[CV] feature_selection__k=14, preparation__num__imputer__strategy=mean \n",
      "[CV]  feature_selection__k=14, preparation__num__imputer__strategy=mean, total=  16.3s\n",
      "[CV] feature_selection__k=14, preparation__num__imputer__strategy=median \n",
      "[CV]  feature_selection__k=14, preparation__num__imputer__strategy=median, total=  17.4s\n",
      "[CV] feature_selection__k=14, preparation__num__imputer__strategy=median \n",
      "[CV]  feature_selection__k=14, preparation__num__imputer__strategy=median, total=  18.4s\n",
      "[CV] feature_selection__k=14, preparation__num__imputer__strategy=median \n",
      "[CV]  feature_selection__k=14, preparation__num__imputer__strategy=median, total=  17.9s\n",
      "[CV] feature_selection__k=14, preparation__num__imputer__strategy=median \n",
      "[CV]  feature_selection__k=14, preparation__num__imputer__strategy=median, total=  17.8s\n",
      "[CV] feature_selection__k=14, preparation__num__imputer__strategy=median \n",
      "[CV]  feature_selection__k=14, preparation__num__imputer__strategy=median, total=  16.0s\n",
      "[CV] feature_selection__k=14, preparation__num__imputer__strategy=most_frequent \n",
      "[CV]  feature_selection__k=14, preparation__num__imputer__strategy=most_frequent, total=  17.7s\n",
      "[CV] feature_selection__k=14, preparation__num__imputer__strategy=most_frequent \n",
      "[CV]  feature_selection__k=14, preparation__num__imputer__strategy=most_frequent, total=  15.6s\n",
      "[CV] feature_selection__k=14, preparation__num__imputer__strategy=most_frequent \n",
      "[CV]  feature_selection__k=14, preparation__num__imputer__strategy=most_frequent, total=  16.2s\n",
      "[CV] feature_selection__k=14, preparation__num__imputer__strategy=most_frequent \n",
      "[CV]  feature_selection__k=14, preparation__num__imputer__strategy=most_frequent, total=  18.2s\n",
      "[CV] feature_selection__k=14, preparation__num__imputer__strategy=most_frequent \n",
      "[CV]  feature_selection__k=14, preparation__num__imputer__strategy=most_frequent, total=  21.4s\n",
      "[CV] feature_selection__k=15, preparation__num__imputer__strategy=mean \n",
      "[CV]  feature_selection__k=15, preparation__num__imputer__strategy=mean, total=  18.4s\n",
      "[CV] feature_selection__k=15, preparation__num__imputer__strategy=mean \n",
      "[CV]  feature_selection__k=15, preparation__num__imputer__strategy=mean, total=  17.2s\n",
      "[CV] feature_selection__k=15, preparation__num__imputer__strategy=mean \n",
      "[CV]  feature_selection__k=15, preparation__num__imputer__strategy=mean, total=  18.6s\n",
      "[CV] feature_selection__k=15, preparation__num__imputer__strategy=mean \n",
      "[CV]  feature_selection__k=15, preparation__num__imputer__strategy=mean, total=  14.5s\n",
      "[CV] feature_selection__k=15, preparation__num__imputer__strategy=mean \n",
      "[CV]  feature_selection__k=15, preparation__num__imputer__strategy=mean, total=  17.0s\n",
      "[CV] feature_selection__k=15, preparation__num__imputer__strategy=median \n",
      "[CV]  feature_selection__k=15, preparation__num__imputer__strategy=median, total=  15.6s\n",
      "[CV] feature_selection__k=15, preparation__num__imputer__strategy=median \n",
      "[CV]  feature_selection__k=15, preparation__num__imputer__strategy=median, total=  17.5s\n",
      "[CV] feature_selection__k=15, preparation__num__imputer__strategy=median \n",
      "[CV]  feature_selection__k=15, preparation__num__imputer__strategy=median, total=  19.2s\n",
      "[CV] feature_selection__k=15, preparation__num__imputer__strategy=median \n",
      "[CV]  feature_selection__k=15, preparation__num__imputer__strategy=median, total=  19.2s\n",
      "[CV] feature_selection__k=15, preparation__num__imputer__strategy=median \n",
      "[CV]  feature_selection__k=15, preparation__num__imputer__strategy=median, total=  17.7s\n",
      "[CV] feature_selection__k=15, preparation__num__imputer__strategy=most_frequent \n",
      "[CV]  feature_selection__k=15, preparation__num__imputer__strategy=most_frequent, total=  19.0s\n",
      "[CV] feature_selection__k=15, preparation__num__imputer__strategy=most_frequent \n",
      "[CV]  feature_selection__k=15, preparation__num__imputer__strategy=most_frequent, total=  18.9s\n",
      "[CV] feature_selection__k=15, preparation__num__imputer__strategy=most_frequent \n",
      "[CV]  feature_selection__k=15, preparation__num__imputer__strategy=most_frequent, total=  19.4s\n",
      "[CV] feature_selection__k=15, preparation__num__imputer__strategy=most_frequent \n",
      "[CV]  feature_selection__k=15, preparation__num__imputer__strategy=most_frequent, total=  15.7s\n",
      "[CV] feature_selection__k=15, preparation__num__imputer__strategy=most_frequent \n",
      "[CV]  feature_selection__k=15, preparation__num__imputer__strategy=most_frequent, total=  19.4s\n",
      "[CV] feature_selection__k=16, preparation__num__imputer__strategy=mean \n",
      "[CV]  feature_selection__k=16, preparation__num__imputer__strategy=mean, total=  18.0s\n",
      "[CV] feature_selection__k=16, preparation__num__imputer__strategy=mean \n",
      "[CV]  feature_selection__k=16, preparation__num__imputer__strategy=mean, total=  18.4s\n",
      "[CV] feature_selection__k=16, preparation__num__imputer__strategy=mean \n",
      "[CV]  feature_selection__k=16, preparation__num__imputer__strategy=mean, total=  17.2s\n",
      "[CV] feature_selection__k=16, preparation__num__imputer__strategy=mean \n",
      "[CV]  feature_selection__k=16, preparation__num__imputer__strategy=mean, total=  18.5s\n",
      "[CV] feature_selection__k=16, preparation__num__imputer__strategy=mean \n",
      "[CV]  feature_selection__k=16, preparation__num__imputer__strategy=mean, total=  15.7s\n",
      "[CV] feature_selection__k=16, preparation__num__imputer__strategy=median \n",
      "[CV]  feature_selection__k=16, preparation__num__imputer__strategy=median, total=  16.4s\n",
      "[CV] feature_selection__k=16, preparation__num__imputer__strategy=median \n",
      "[CV]  feature_selection__k=16, preparation__num__imputer__strategy=median, total=  18.3s\n",
      "[CV] feature_selection__k=16, preparation__num__imputer__strategy=median \n",
      "[CV]  feature_selection__k=16, preparation__num__imputer__strategy=median, total=  17.4s\n",
      "[CV] feature_selection__k=16, preparation__num__imputer__strategy=median \n",
      "[CV]  feature_selection__k=16, preparation__num__imputer__strategy=median, total=  14.8s\n",
      "[CV] feature_selection__k=16, preparation__num__imputer__strategy=median \n",
      "[CV]  feature_selection__k=16, preparation__num__imputer__strategy=median, total=  17.7s\n",
      "[CV] feature_selection__k=16, preparation__num__imputer__strategy=most_frequent \n",
      "[CV]  feature_selection__k=16, preparation__num__imputer__strategy=most_frequent, total=  15.9s\n",
      "[CV] feature_selection__k=16, preparation__num__imputer__strategy=most_frequent \n",
      "[CV]  feature_selection__k=16, preparation__num__imputer__strategy=most_frequent, total=  18.1s\n",
      "[CV] feature_selection__k=16, preparation__num__imputer__strategy=most_frequent \n",
      "[CV]  feature_selection__k=16, preparation__num__imputer__strategy=most_frequent, total=  17.0s\n",
      "[CV] feature_selection__k=16, preparation__num__imputer__strategy=most_frequent \n",
      "[CV]  feature_selection__k=16, preparation__num__imputer__strategy=most_frequent, total=  17.2s\n",
      "[CV] feature_selection__k=16, preparation__num__imputer__strategy=most_frequent \n",
      "[CV]  feature_selection__k=16, preparation__num__imputer__strategy=most_frequent, total=  18.3s\n"
     ]
    },
    {
     "name": "stderr",
     "output_type": "stream",
     "text": [
      "[Parallel(n_jobs=1)]: Done 240 out of 240 | elapsed: 43.1min finished\n"
     ]
    },
    {
     "data": {
      "text/plain": [
       "GridSearchCV(cv=5,\n",
       "             estimator=Pipeline(steps=[('preparation',\n",
       "                                        ColumnTransformer(transformers=[('num',\n",
       "                                                                         Pipeline(steps=[('imputer',\n",
       "                                                                                          SimpleImputer(strategy='median')),\n",
       "                                                                                         ('attribs_adder',\n",
       "                                                                                          CombinedAttributesAdder()),\n",
       "                                                                                         ('std_scaler',\n",
       "                                                                                          StandardScaler())]),\n",
       "                                                                         ['longitude',\n",
       "                                                                          'latitude',\n",
       "                                                                          'housing_median_age',\n",
       "                                                                          'total_rooms',\n",
       "                                                                          'total_bedrooms',\n",
       "                                                                          'population',\n",
       "                                                                          'households',\n",
       "                                                                          'median_inc...\n",
       "       5.74445360e-02, 1.08468449e-01, 7.05907498e-02, 8.77441303e-03,\n",
       "       1.60563229e-01, 6.10403994e-05, 3.08961266e-03, 3.34886200e-03]),\n",
       "                                                           k=5)),\n",
       "                                       ('svm_reg',\n",
       "                                        SVR(C=157055.10989448498,\n",
       "                                            gamma=0.26497040005002437))]),\n",
       "             param_grid=[{'feature_selection__k': [1, 2, 3, 4, 5, 6, 7, 8, 9,\n",
       "                                                   10, 11, 12, 13, 14, 15, 16],\n",
       "                          'preparation__num__imputer__strategy': ['mean',\n",
       "                                                                  'median',\n",
       "                                                                  'most_frequent']}],\n",
       "             scoring='neg_mean_squared_error', verbose=2)"
      ]
     },
     "execution_count": 45,
     "metadata": {},
     "output_type": "execute_result"
    }
   ],
   "source": [
    "param_grid = [{\n",
    "    'preparation__num__imputer__strategy': ['mean', 'median', 'most_frequent'],\n",
    "    'feature_selection__k': list(range(1, len(feature_importances) + 1))\n",
    "}]\n",
    "\n",
    "grid_search_prep = GridSearchCV(prepare_select_and_predict_pipeline, param_grid, cv=5,\n",
    "                                scoring='neg_mean_squared_error', verbose=2)\n",
    "grid_search_prep.fit(housing, housing_labels)"
   ]
  },
  {
   "cell_type": "code",
   "execution_count": 46,
   "metadata": {},
   "outputs": [
    {
     "data": {
      "text/plain": [
       "{'feature_selection__k': 15,\n",
       " 'preparation__num__imputer__strategy': 'most_frequent'}"
      ]
     },
     "execution_count": 46,
     "metadata": {},
     "output_type": "execute_result"
    }
   ],
   "source": [
    "grid_search_prep.best_params_"
   ]
  },
  {
   "cell_type": "code",
   "execution_count": null,
   "metadata": {},
   "outputs": [],
   "source": []
  }
 ],
 "metadata": {
  "kernelspec": {
   "display_name": "Python 3",
   "language": "python",
   "name": "python3"
  },
  "language_info": {
   "codemirror_mode": {
    "name": "ipython",
    "version": 3
   },
   "file_extension": ".py",
   "mimetype": "text/x-python",
   "name": "python",
   "nbconvert_exporter": "python",
   "pygments_lexer": "ipython3",
   "version": "3.8.2"
  }
 },
 "nbformat": 4,
 "nbformat_minor": 4
}
